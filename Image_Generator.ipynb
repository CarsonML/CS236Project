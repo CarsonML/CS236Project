{
  "nbformat": 4,
  "nbformat_minor": 0,
  "metadata": {
    "colab": {
      "provenance": [],
      "machine_shape": "hm",
      "gpuType": "A100"
    },
    "kernelspec": {
      "name": "python3",
      "display_name": "Python 3"
    },
    "language_info": {
      "name": "python"
    },
    "accelerator": "GPU"
  },
  "cells": [
    {
      "cell_type": "markdown",
      "source": [
        "Code to get pix2pixzero"
      ],
      "metadata": {
        "id": "cxYIw8vEG2lR"
      }
    },
    {
      "cell_type": "code",
      "source": [
        "!git clone https://github.com/pix2pixzero/pix2pix-zero.git"
      ],
      "metadata": {
        "id": "E-yPo8sxF1WG"
      },
      "execution_count": null,
      "outputs": []
    },
    {
      "cell_type": "code",
      "source": [
        "!pip install torchvision"
      ],
      "metadata": {
        "id": "LxapViclZNmA"
      },
      "execution_count": null,
      "outputs": []
    },
    {
      "cell_type": "code",
      "execution_count": null,
      "metadata": {
        "id": "j0XLUu3nWk4k"
      },
      "outputs": [],
      "source": [
        "!pip install accelerate diffusers==0.12.0 einops gradio ipython numpy opencv-python-headless pillow psutil tqdm transformers salesforce-lavis"
      ]
    },
    {
      "cell_type": "markdown",
      "source": [
        "Define Helper Functions to invert the image and create the semantic edit direction (setup phase), as well as create baseline images (sans mask) and images with the new loss function (using mask)"
      ],
      "metadata": {
        "id": "FLhqh06WG9LE"
      }
    },
    {
      "cell_type": "code",
      "source": [
        "import os\n",
        "def create_inversion(num):\n",
        "  s = subprocess.getstatusoutput(f\"cd pix2pix-zero; python3 src/inversion.py --input_image \\\"../{num} copy.png\\\" --results_folder \\\"output/all_data_inv\\\" --use_float_16\")\n",
        "  # if s[0] == 0:\n",
        "  #   print(s[1])\n",
        "  # else:\n",
        "  #     print('Custom Error {}'.format(s[1]))"
      ],
      "metadata": {
        "id": "eA8ey4XvYcK2"
      },
      "execution_count": null,
      "outputs": []
    },
    {
      "cell_type": "code",
      "source": [
        "import subprocess\n",
        "def generate_y2o_photo(num):\n",
        "  s = subprocess.getstatusoutput(f'cd pix2pix-zero ; python3 src/edit_real.py --inversion \"output/all_data_inv/inversion/{num} copy.pt\" --prompt \"output/all_data_inv/prompt/{num} copy.txt\" --task_name \"young2old\" --results_folder \"output/AA_rep_y2o\"  --use_float_16')\n",
        "  # if s[0] == 0:\n",
        "  #   print(s[1])\n",
        "  # else:\n",
        "  #     print('Custom Error {}'.format(s[1]))\n",
        "def generate_b2b_photo(num):\n",
        "  s = subprocess.getstatusoutput(f'cd pix2pix-zero ; python3 src/edit_real.py --inversion \"output/all_data_inv/inversion/{num} copy.pt\" --prompt \"output/all_data_inv/prompt/{num} copy.txt\" --task_name \"brunette2blonde\" --results_folder \"output/AA_rep_b2b\"  --use_float_16')\n",
        "  # if s[0] == 0:\n",
        "  #   print(s[1])\n",
        "  # else:\n",
        "  #     print('Custom Error {}'.format(s[1]))\n",
        "def y2o_base(num):\n",
        "  s = subprocess.getstatusoutput(f'cd pix2pix-zero ; python3 src/edit_real.py --inversion \"output/all_data_inv/inversion/{num} copy.pt\" --prompt \"output/all_data_inv/prompt/{num} copy.txt\" --task_name \"young2old\" --results_folder \"output/AA_rep_y2o_base\"  --use_float_16')\n",
        "  # if s[0] == 0:\n",
        "  #   print(s[1])\n",
        "  # else:\n",
        "  #     print('Custom Error {}'.format(s[1]))\n",
        "def b2b_base(num):\n",
        "  s = subprocess.getstatusoutput(f'cd pix2pix-zero ; python3 src/edit_real.py --inversion \"output/all_data_inv/inversion/{num} copy.pt\" --prompt \"output/all_data_inv/prompt/{num} copy.txt\" --task_name \"brunette2blonde\" --results_folder \"output/AA_rep_b2b_base\"  --use_float_16')\n",
        "  # if s[0] == 0:\n",
        "  #   print(s[1])\n",
        "  # else:\n",
        "  #     print('Custom Error {}'.format(s[1]))"
      ],
      "metadata": {
        "id": "6LaRHRdwFzDw"
      },
      "execution_count": null,
      "outputs": []
    },
    {
      "cell_type": "markdown",
      "source": [
        "Helper functions to load the masks"
      ],
      "metadata": {
        "id": "vwV1bK8RHNsX"
      }
    },
    {
      "cell_type": "code",
      "source": [
        "import cv2\n",
        "import numpy as np\n",
        "import pickle\n",
        "# Load the image\n",
        "\n",
        "def create_y2o_mask(num):\n",
        "  image1 = cv2.imread(str(num).zfill(5) + \"_hair copy.png\")\n",
        "\n",
        "  image2 = cv2.imread(str(num).zfill(5) + \"_skin copy.png\")\n",
        "\n",
        "  # Convert the image to a NumPy array\n",
        "  image_array = np.array(image1)\n",
        "  image_array2 = np.array(image2)\n",
        "\n",
        "  final_mask = image_array / 255 + image_array2 / 255\n",
        "\n",
        "  for i in range(512):\n",
        "    for j in range(512):\n",
        "      for k in range(3):\n",
        "        if final_mask[i,j,k] >= 1:\n",
        "          final_mask[i,j,k] = 1\n",
        "        final_mask[i,j,k] = int(final_mask[i,j,k])\n",
        "\n",
        "\n",
        "\n",
        "\n",
        "  # pickle the object\n",
        "  with open(\"./pix2pix-zero/current_mask.pkl\", 'wb+') as f:\n",
        "      pickle.dump(final_mask, f)\n",
        "\n",
        "def create_b2b_mask(num):\n",
        "  image1 = cv2.imread(str(num).zfill(5) + \"_hair copy.png\")\n",
        "\n",
        "  # Convert the image to a NumPy array\n",
        "  image_array = np.array(image1)\n",
        "\n",
        "  final_mask = image_array / 255\n",
        "\n",
        "  for i in range(512):\n",
        "    for j in range(512):\n",
        "      for k in range(3):\n",
        "        if final_mask[i,j,k] >= 1:\n",
        "          final_mask[i,j,k] = 1\n",
        "        final_mask[i,j,k] = int(final_mask[i,j,k])\n",
        "\n",
        "  # pickle the object\n",
        "  with open(\"./pix2pix-zero/current_mask.pkl\", 'wb+') as f:\n",
        "      pickle.dump(final_mask, f)\n"
      ],
      "metadata": {
        "id": "l6iNyEVpG22M"
      },
      "execution_count": null,
      "outputs": []
    },
    {
      "cell_type": "markdown",
      "source": [
        "Loop to create the images"
      ],
      "metadata": {
        "id": "yRYn7cYHHQpH"
      }
    },
    {
      "cell_type": "code",
      "source": [
        "for i in range(12, 100):\n",
        "  print(i)\n",
        "  create_inversion(i)\n",
        "  with open(\"./pix2pix-zero/lamb.pkl\", 'wb+') as f:\n",
        "    lamb = .01\n",
        "    pickle.dump(lamb, f)\n",
        "  create_y2o_mask(i)\n",
        "  generate_y2o_photo(i)\n",
        "  create_b2b_mask(i)\n",
        "  generate_b2b_photo(i)\n",
        "  with open(\"./pix2pix-zero/lamb.pkl\", 'wb+') as f:\n",
        "    lamb = 0\n",
        "    pickle.dump(lamb, f)\n",
        "  y2o_base(i)\n",
        "  b2b_base(i)"
      ],
      "metadata": {
        "id": "Sd9QE-4wG3r8"
      },
      "execution_count": null,
      "outputs": []
    },
    {
      "cell_type": "markdown",
      "source": [
        "Zip the created images for download"
      ],
      "metadata": {
        "id": "9gx5N-8_HU2D"
      }
    },
    {
      "cell_type": "code",
      "source": [
        "!zip -r './pix2pix-zero/output/AA_rep_b2b' './pix2pix-zero/output/AA_rep_b2b'"
      ],
      "metadata": {
        "id": "_IbeucqsG__R"
      },
      "execution_count": null,
      "outputs": []
    },
    {
      "cell_type": "code",
      "source": [
        "!zip -r './pix2pix-zero/output/AA_rep_y2o' './pix2pix-zero/output/AA_rep_y2o'"
      ],
      "metadata": {
        "id": "E8tOHqKwHpZv"
      },
      "execution_count": null,
      "outputs": []
    },
    {
      "cell_type": "code",
      "source": [
        "!zip -r './pix2pix-zero/output/AA_rep_b2b_base' './pix2pix-zero/output/AA_rep_b2b_base'"
      ],
      "metadata": {
        "id": "qK-7sXQWIzS4"
      },
      "execution_count": null,
      "outputs": []
    },
    {
      "cell_type": "code",
      "source": [
        "!zip -r './pix2pix-zero/output/AA_rep_y2o_base' './pix2pix-zero/output/AA_rep_y2o_base'"
      ],
      "metadata": {
        "id": "zqXa5tg7utT1"
      },
      "execution_count": null,
      "outputs": []
    },
    {
      "cell_type": "code",
      "source": [
        "!cd pix2pix-zero; python src/make_edit_direction.py --file_source_sentences sentences/brunette.txt --file_target_sentences sentences/blonde.txt --output_folder assets/embeddings_sd_1.4"
      ],
      "metadata": {
        "id": "KZ5RE2TcJJth"
      },
      "execution_count": null,
      "outputs": []
    },
    {
      "cell_type": "markdown",
      "source": [
        "The below generates the requisite .pt files for the old2young and brunette2blond tasks using the chatGPT generated sentences  "
      ],
      "metadata": {
        "id": "3OZ3N78tHa4J"
      }
    },
    {
      "cell_type": "code",
      "source": [
        "!cd pix2pix-zero; python src/make_edit_direction.py --file_source_sentences sentences/old.txt --file_target_sentences sentences/young.txt --output_folder assets/embeddings_sd_1.4"
      ],
      "metadata": {
        "id": "jyX-T_TeFolG"
      },
      "execution_count": null,
      "outputs": []
    },
    {
      "cell_type": "code",
      "source": [
        "!cd pix2pix-zero; python src/make_edit_direction.py --file_source_sentences sentences/blonde.txt --file_target_sentences sentences/brunette.txt --output_folder assets/embeddings_sd_1.4"
      ],
      "metadata": {
        "id": "_m47hGyKHpN3"
      },
      "execution_count": null,
      "outputs": []
    }
  ]
}